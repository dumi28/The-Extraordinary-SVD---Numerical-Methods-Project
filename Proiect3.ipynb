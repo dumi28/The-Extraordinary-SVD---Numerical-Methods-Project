{
 "cells": [
  {
   "cell_type": "code",
   "execution_count": 34,
   "metadata": {},
   "outputs": [],
   "source": [
    "import numpy as np\n",
    "import matplotlib.pyplot as plt"
   ]
  },
  {
   "cell_type": "code",
   "execution_count": 35,
   "metadata": {},
   "outputs": [],
   "source": [
    "# Deschiderea fisierului .data\n",
    "with open('house-votes-84.data', 'r') as f:\n",
    "    # Citesc datele din fisier\n",
    "    data = f.readlines()\n",
    "\n",
    "# Impart datele dupa separatorul ',' si sterg prima coloana\n",
    "data = [x.strip().split(',')[1:] for x in data]\n",
    "\n",
    "# Creez un vector de label-uri pentru a identifica reprezentantii republicani sau democrat\n",
    "\n",
    "labels = []\n",
    "with open(\"house-votes-84.data\", \"r\") as f:\n",
    "    for line in f:\n",
    "        labels.append(1 if line.split(',')[0] == 'republican' else -1)\n"
   ]
  },
  {
   "cell_type": "code",
   "execution_count": 36,
   "metadata": {},
   "outputs": [],
   "source": [
    "# Creez matrice, de aceeasi lungime cu vectorul data\n",
    "A = np.zeros((len(data), len(data[0])))\n",
    "\n",
    "for i in range(len(data)):\n",
    "    for j in range(len(data[0])):\n",
    "        # Verific valoarea fiecărei pozitii si o schimb in 1, 0, or -1, in functie de valoare\n",
    "        if data[i][j] == 'y':\n",
    "            A[i][j] = 1\n",
    "        elif data[i][j] == '?':\n",
    "            A[i][j] = 0\n",
    "        elif data[i][j] == 'n':\n",
    "            A[i][j] = -1"
   ]
  },
  {
   "cell_type": "code",
   "execution_count": 37,
   "metadata": {},
   "outputs": [],
   "source": [
    "def SVD(A):\n",
    "    m, n = A.shape\n",
    "    U, S, V = np.zeros((m,m)), np.zeros((m,n)), np.zeros((n,n))\n",
    "    ATA = np.dot(A.T, A)\n",
    "    eigenvalues, eigenvectors = np.linalg.eig(ATA)\n",
    "    idx = eigenvalues.argsort()[::-1]\n",
    "    eigenvalues = eigenvalues[idx]\n",
    "    eigenvectors = eigenvectors[:,idx]\n",
    "    for i in range(min(m,n)):\n",
    "        S[i,i] = np.sqrt(eigenvalues[i])\n",
    "        U[:,i] = np.dot(A, eigenvectors[:,i])/S[i,i]\n",
    "    V = eigenvectors.T\n",
    "    return U, S, V\n"
   ]
  },
  {
   "cell_type": "code",
   "execution_count": 38,
   "metadata": {},
   "outputs": [
    {
     "name": "stdout",
     "output_type": "stream",
     "text": [
      "[[ 0.06135958 -0.02517892 -0.06096279 ...  0.          0.\n",
      "   0.        ]\n",
      " [ 0.06396898  0.00780588 -0.00281649 ...  0.          0.\n",
      "   0.        ]\n",
      " [ 0.03311324  0.07269761 -0.07216542 ...  0.          0.\n",
      "   0.        ]\n",
      " ...\n",
      " [ 0.05880491  0.01419887 -0.03095667 ...  0.          0.\n",
      "   0.        ]\n",
      " [ 0.04351815 -0.08102951  0.00850906 ...  0.          0.\n",
      "   0.        ]\n",
      " [ 0.06191945 -0.01101447 -0.00653516 ...  0.          0.\n",
      "   0.        ]]\n",
      "--------------------------------------------------\n",
      "[[-0.06135958 -0.02517892  0.06096279 ... -0.04884809 -0.06078535\n",
      "  -0.05373915]\n",
      " [-0.06396898  0.00780588  0.00281649 ...  0.00788187  0.0406621\n",
      "  -0.06547714]\n",
      " [-0.03311324  0.07269761  0.07216542 ...  0.02367022  0.04592477\n",
      "   0.02523809]\n",
      " ...\n",
      " [-0.05880491  0.01419887  0.03095667 ...  0.97882004 -0.01104144\n",
      "   0.00940906]\n",
      " [-0.04351815 -0.08102951 -0.00850906 ... -0.00891275  0.97753733\n",
      "   0.00454417]\n",
      " [-0.06191945 -0.01101447  0.00653516 ...  0.00962302  0.00345703\n",
      "   0.98170416]]\n",
      "--------------------------------------------------\n"
     ]
    }
   ],
   "source": [
    "U, s, VT = SVD(A)\n",
    "U1, s1, VT1 = np.linalg.svd(A)\n",
    "print(U)\n",
    "print('--------------------------------------------------')\n",
    "print(U1)\n",
    "print('--------------------------------------------------')\n"
   ]
  },
  {
   "cell_type": "code",
   "execution_count": 39,
   "metadata": {},
   "outputs": [
    {
     "name": "stdout",
     "output_type": "stream",
     "text": [
      "[[54.78401461  0.          0.         ...  0.          0.\n",
      "   0.        ]\n",
      " [ 0.         24.49128978  0.         ...  0.          0.\n",
      "   0.        ]\n",
      " [ 0.          0.         21.91768788 ...  0.          0.\n",
      "   0.        ]\n",
      " ...\n",
      " [ 0.          0.          0.         ...  0.          0.\n",
      "   0.        ]\n",
      " [ 0.          0.          0.         ...  0.          0.\n",
      "   0.        ]\n",
      " [ 0.          0.          0.         ...  0.          0.\n",
      "   0.        ]]\n",
      "--------------------------------------------------\n",
      "[54.78401461 24.49128978 21.91768788 19.95738562 18.58752875 17.22573075\n",
      " 14.83925996 14.28563716 13.83780123 13.06862931 12.5229185  11.57686358\n",
      " 11.11191929  9.98312503  9.48424579  7.44926625]\n",
      "--------------------------------------------------\n"
     ]
    }
   ],
   "source": [
    "print(s)\n",
    "print('--------------------------------------------------')\n",
    "print(s1)\n",
    "print('--------------------------------------------------')"
   ]
  },
  {
   "cell_type": "code",
   "execution_count": 40,
   "metadata": {},
   "outputs": [
    {
     "name": "stdout",
     "output_type": "stream",
     "text": [
      "[[-1.89905158e-01  5.20986181e-02 -2.96648089e-01  3.15858442e-01\n",
      "   3.36209142e-01  2.52374079e-01 -2.94807807e-01 -3.25764806e-01\n",
      "  -3.03198998e-01  1.24377378e-02 -6.29811547e-02  2.85113086e-01\n",
      "   2.76876363e-01  2.83075452e-01 -2.42003872e-01 -1.04847382e-01]\n",
      " [ 2.45201121e-01  4.43132805e-01 -5.65091473e-02 -3.05309156e-02\n",
      "   2.15969808e-02 -1.33937604e-01 -2.16421054e-01 -1.17065220e-01\n",
      "  -1.32966921e-01 -4.64137072e-01  4.79271308e-01 -5.45942544e-02\n",
      "   2.28811348e-02 -2.31496817e-01  1.08502243e-01 -3.58837365e-01]\n",
      " [ 7.40223997e-02 -4.51110936e-01 -3.02736310e-01  2.20012020e-01\n",
      "  -4.04777759e-02 -4.45875019e-01  1.47724540e-02 -1.03530858e-01\n",
      "   6.57230982e-02 -2.83343204e-01 -3.60132543e-01  1.97927250e-01\n",
      "  -1.76317715e-01 -1.23545500e-01  1.37568234e-01 -3.47613595e-01]\n",
      " [-9.51794894e-02 -2.23650641e-01 -9.79210424e-02  4.45504924e-02\n",
      "  -5.65530442e-02 -1.18473266e-01 -8.78795352e-02 -5.36640203e-02\n",
      "   1.34766581e-02  6.76951337e-01  5.16954356e-01  1.19056365e-01\n",
      "  -5.59925282e-02 -5.56440581e-02  2.18536254e-01 -3.28116902e-01]\n",
      " [-7.64325624e-01 -1.78437672e-01  1.29009301e-02 -9.16588625e-02\n",
      "  -6.19764098e-02  1.87199981e-01 -1.42775143e-02  1.05472405e-02\n",
      "  -6.67391396e-03 -3.82328946e-01  2.01131974e-01  2.95950494e-02\n",
      "  -7.74125108e-02 -1.62323090e-02  3.70163394e-01  7.32907348e-02]\n",
      " [-3.70836765e-01  6.00720358e-01 -1.13684162e-01  1.51494364e-01\n",
      "  -1.18723172e-01 -1.99434671e-01 -2.14036402e-02  6.71455472e-02\n",
      "   1.20477809e-01  2.62084359e-01 -4.03349354e-01 -2.17221693e-02\n",
      "   1.78892131e-01 -2.83748747e-01  1.85438548e-01 -1.16771679e-01]\n",
      " [-1.53570991e-01  2.81038911e-02 -1.16981652e-01  8.99581992e-02\n",
      "  -2.86821250e-01 -8.15279131e-02  2.37285622e-01  2.58157319e-01\n",
      "   4.40271621e-01 -1.53336326e-01  2.68712850e-01  2.83762950e-01\n",
      "   2.81991116e-01  1.16550579e-01 -5.10647319e-01 -1.34324948e-01]\n",
      " [ 6.43610281e-02  1.99856031e-01 -3.04544702e-01  3.03009729e-01\n",
      "   8.02868993e-02 -3.22992530e-01  3.32009898e-01  3.54683401e-04\n",
      "  -1.42866344e-01 -9.21714870e-03  2.56895012e-01  2.12745064e-01\n",
      "  -1.66667032e-01  1.20241873e-01  1.90741577e-01  5.83080081e-01]\n",
      " [ 2.97419823e-01 -6.62806601e-02  5.27726535e-02  4.76771813e-02\n",
      "   4.80805972e-02  2.02197670e-01  1.79590201e-01  1.04461840e-01\n",
      "   1.61622110e-01 -6.32634551e-02 -4.44588349e-02  1.63715014e-01\n",
      "   6.01601723e-01  1.82472821e-01  5.97596122e-01 -6.69659948e-02]\n",
      " [ 6.32166821e-02  2.57442222e-01 -6.15704773e-02  6.34994920e-02\n",
      "  -6.09025726e-02  4.10267524e-01  3.24923652e-01  2.28024908e-01\n",
      "  -1.02612181e-01  1.17356102e-02 -1.07070203e-01  1.97366833e-01\n",
      "  -5.29807534e-01  2.84599140e-01  9.45523325e-02 -4.00733359e-01]\n",
      " [ 9.90276335e-02 -5.80123894e-02  1.43669250e-01 -7.15539416e-02\n",
      "  -1.00219578e-01  2.28913386e-01 -5.46473090e-02  1.12861780e-01\n",
      "  -2.20257876e-01  1.93867054e-02 -4.04905856e-02  6.60082786e-01\n",
      "   2.19463967e-03 -6.06395481e-01 -5.66945886e-02  1.60390577e-01]\n",
      " [ 1.66888413e-01  6.92856346e-02 -4.23227474e-01 -1.66036034e-01\n",
      "  -2.52721555e-01  1.82525962e-01 -5.89247138e-01  5.78074522e-02\n",
      "   4.04806820e-01  6.75546392e-03 -4.09079308e-02  1.10771496e-01\n",
      "  -1.94162071e-01  1.41252372e-01  1.38044227e-01  2.41568138e-01]\n",
      " [ 5.59009500e-02 -1.12942738e-01 -6.34263236e-01 -1.07377811e-01\n",
      "  -7.99913498e-02  3.60244082e-01  3.53208300e-01 -1.06600449e-01\n",
      "  -7.79096254e-02  2.75554733e-02  2.86926764e-02 -3.57779929e-01\n",
      "   1.31282725e-01 -3.74027091e-01 -7.20977029e-02  4.06719220e-03]\n",
      " [ 5.47670772e-02 -8.12661065e-02  1.68652708e-01  7.46709481e-01\n",
      "   1.66349047e-01  2.82414951e-01 -1.18990881e-01  1.20214133e-01\n",
      "   3.26446350e-01 -4.00840119e-02  1.00862363e-01 -2.24390498e-01\n",
      "  -1.41884917e-01 -2.76566000e-01  4.92903587e-03  5.47219215e-02]\n",
      " [-4.14217616e-03  1.25552109e-01  1.24129051e-01 -1.73955053e-01\n",
      "   2.42362534e-01  8.39745080e-02  2.52145435e-01 -6.88844651e-01\n",
      "   5.12045969e-01  1.91979641e-02 -6.49219572e-04  2.00561349e-01\n",
      "  -1.54760255e-01 -8.84902272e-02  7.78308305e-03  6.98528748e-03]\n",
      " [ 5.98281893e-02  1.42039200e-03  1.88590253e-01  2.81590796e-01\n",
      "  -7.76059514e-01  9.07329799e-02  2.43609166e-02 -4.64758325e-01\n",
      "  -1.82259211e-01 -1.09047910e-02 -1.72698421e-02 -5.41523635e-02\n",
      "   4.07338930e-02  1.13677280e-01  2.84981706e-02  5.00233270e-02]]\n",
      "--------------------------------------------------\n",
      "[[ 1.89905158e-01 -5.20986181e-02  2.96648089e-01 -3.15858442e-01\n",
      "  -3.36209142e-01 -2.52374079e-01  2.94807807e-01  3.25764806e-01\n",
      "   3.03198998e-01 -1.24377378e-02  6.29811547e-02 -2.85113086e-01\n",
      "  -2.76876363e-01 -2.83075452e-01  2.42003872e-01  1.04847382e-01]\n",
      " [ 2.45201121e-01  4.43132805e-01 -5.65091473e-02 -3.05309156e-02\n",
      "   2.15969808e-02 -1.33937604e-01 -2.16421054e-01 -1.17065220e-01\n",
      "  -1.32966921e-01 -4.64137072e-01  4.79271308e-01 -5.45942544e-02\n",
      "   2.28811348e-02 -2.31496817e-01  1.08502243e-01 -3.58837365e-01]\n",
      " [-7.40223997e-02  4.51110936e-01  3.02736310e-01 -2.20012020e-01\n",
      "   4.04777759e-02  4.45875019e-01 -1.47724540e-02  1.03530858e-01\n",
      "  -6.57230982e-02  2.83343204e-01  3.60132543e-01 -1.97927250e-01\n",
      "   1.76317715e-01  1.23545500e-01 -1.37568234e-01  3.47613595e-01]\n",
      " [ 9.51794894e-02  2.23650641e-01  9.79210424e-02 -4.45504924e-02\n",
      "   5.65530442e-02  1.18473266e-01  8.78795352e-02  5.36640203e-02\n",
      "  -1.34766581e-02 -6.76951337e-01 -5.16954356e-01 -1.19056365e-01\n",
      "   5.59925282e-02  5.56440581e-02 -2.18536254e-01  3.28116902e-01]\n",
      " [-7.64325624e-01 -1.78437672e-01  1.29009301e-02 -9.16588625e-02\n",
      "  -6.19764098e-02  1.87199981e-01 -1.42775143e-02  1.05472405e-02\n",
      "  -6.67391396e-03 -3.82328946e-01  2.01131974e-01  2.95950494e-02\n",
      "  -7.74125108e-02 -1.62323090e-02  3.70163394e-01  7.32907348e-02]\n",
      " [ 3.70836765e-01 -6.00720358e-01  1.13684162e-01 -1.51494364e-01\n",
      "   1.18723172e-01  1.99434671e-01  2.14036402e-02 -6.71455472e-02\n",
      "  -1.20477809e-01 -2.62084359e-01  4.03349354e-01  2.17221693e-02\n",
      "  -1.78892131e-01  2.83748747e-01 -1.85438548e-01  1.16771679e-01]\n",
      " [-1.53570991e-01  2.81038911e-02 -1.16981652e-01  8.99581992e-02\n",
      "  -2.86821250e-01 -8.15279131e-02  2.37285622e-01  2.58157319e-01\n",
      "   4.40271621e-01 -1.53336326e-01  2.68712850e-01  2.83762950e-01\n",
      "   2.81991116e-01  1.16550579e-01 -5.10647319e-01 -1.34324948e-01]\n",
      " [ 6.43610281e-02  1.99856031e-01 -3.04544702e-01  3.03009729e-01\n",
      "   8.02868993e-02 -3.22992530e-01  3.32009898e-01  3.54683401e-04\n",
      "  -1.42866344e-01 -9.21714870e-03  2.56895012e-01  2.12745064e-01\n",
      "  -1.66667032e-01  1.20241873e-01  1.90741577e-01  5.83080081e-01]\n",
      " [-2.97419823e-01  6.62806601e-02 -5.27726535e-02 -4.76771813e-02\n",
      "  -4.80805972e-02 -2.02197670e-01 -1.79590201e-01 -1.04461840e-01\n",
      "  -1.61622110e-01  6.32634551e-02  4.44588349e-02 -1.63715014e-01\n",
      "  -6.01601723e-01 -1.82472821e-01 -5.97596122e-01  6.69659948e-02]\n",
      " [ 6.32166821e-02  2.57442222e-01 -6.15704773e-02  6.34994920e-02\n",
      "  -6.09025726e-02  4.10267524e-01  3.24923652e-01  2.28024908e-01\n",
      "  -1.02612181e-01  1.17356102e-02 -1.07070203e-01  1.97366833e-01\n",
      "  -5.29807534e-01  2.84599140e-01  9.45523325e-02 -4.00733359e-01]\n",
      " [-9.90276335e-02  5.80123894e-02 -1.43669250e-01  7.15539416e-02\n",
      "   1.00219578e-01 -2.28913386e-01  5.46473090e-02 -1.12861780e-01\n",
      "   2.20257876e-01 -1.93867054e-02  4.04905856e-02 -6.60082786e-01\n",
      "  -2.19463967e-03  6.06395481e-01  5.66945886e-02 -1.60390577e-01]\n",
      " [ 1.66888413e-01  6.92856346e-02 -4.23227474e-01 -1.66036034e-01\n",
      "  -2.52721555e-01  1.82525962e-01 -5.89247138e-01  5.78074522e-02\n",
      "   4.04806820e-01  6.75546392e-03 -4.09079308e-02  1.10771496e-01\n",
      "  -1.94162071e-01  1.41252372e-01  1.38044227e-01  2.41568138e-01]\n",
      " [-5.59009500e-02  1.12942738e-01  6.34263236e-01  1.07377811e-01\n",
      "   7.99913498e-02 -3.60244082e-01 -3.53208300e-01  1.06600449e-01\n",
      "   7.79096254e-02 -2.75554733e-02 -2.86926764e-02  3.57779929e-01\n",
      "  -1.31282725e-01  3.74027091e-01  7.20977029e-02 -4.06719220e-03]\n",
      " [-5.47670772e-02  8.12661065e-02 -1.68652708e-01 -7.46709481e-01\n",
      "  -1.66349047e-01 -2.82414951e-01  1.18990881e-01 -1.20214133e-01\n",
      "  -3.26446350e-01  4.00840119e-02 -1.00862363e-01  2.24390498e-01\n",
      "   1.41884917e-01  2.76566000e-01 -4.92903587e-03 -5.47219215e-02]\n",
      " [ 4.14217616e-03 -1.25552109e-01 -1.24129051e-01  1.73955053e-01\n",
      "  -2.42362534e-01 -8.39745080e-02 -2.52145435e-01  6.88844651e-01\n",
      "  -5.12045969e-01 -1.91979641e-02  6.49219572e-04 -2.00561349e-01\n",
      "   1.54760255e-01  8.84902272e-02 -7.78308305e-03 -6.98528748e-03]\n",
      " [ 5.98281893e-02  1.42039200e-03  1.88590253e-01  2.81590796e-01\n",
      "  -7.76059514e-01  9.07329799e-02  2.43609166e-02 -4.64758325e-01\n",
      "  -1.82259211e-01 -1.09047910e-02 -1.72698421e-02 -5.41523635e-02\n",
      "   4.07338930e-02  1.13677280e-01  2.84981706e-02  5.00233270e-02]]\n"
     ]
    }
   ],
   "source": [
    "print(VT)\n",
    "print('--------------------------------------------------')\n",
    "print(VT1)"
   ]
  },
  {
   "cell_type": "code",
   "execution_count": 45,
   "metadata": {},
   "outputs": [],
   "source": [
    "# Aproximati matricea A cu ordin k\n",
    "\n",
    "k = 2\n",
    "S = np.zeros((A.shape[0], A.shape[1]))\n",
    "S[:k, :k] = np.diag(s[:k])\n",
    "Ak = U[:, :k] @ S[:k, :k] @ VT[:k, :]"
   ]
  },
  {
   "cell_type": "code",
   "execution_count": 46,
   "metadata": {},
   "outputs": [],
   "source": [
    "# Calculam primul vector singular din stanga\n",
    "\n",
    "u1 = U[:, 0]\n",
    "\n",
    "# Calculam cel de-al doilea vector singular din stanga\n",
    "\n",
    "u2 = U[:, 1]\n",
    "\n",
    "# Calculeaza coordonatele politice si bipartizane ale fiecarui reprezentant\n",
    "\n",
    "partisan_coord = u1\n",
    "bipartisan_coord = u2\n"
   ]
  },
  {
   "cell_type": "code",
   "execution_count": 47,
   "metadata": {},
   "outputs": [],
   "source": [
    "# Creez doua liste pentru coordonatele republicanilor si democratilor\n",
    "republican_coords = []\n",
    "democrat_coords = []\n",
    "\n",
    "# Caut prin fiecare reprezentant si adaug coordonatele in lista corespunzatoare\n",
    "for i in range(len(labels)):\n",
    "    if labels[i] == 1:\n",
    "        republican_coords.append([bipartisan_coord[i], partisan_coord[i]])\n",
    "    else:\n",
    "        democrat_coords.append([bipartisan_coord[i], partisan_coord[i]])\n",
    "        \n",
    "# Convertesc listele in np.arrays\n",
    "republican_coords = np.array(republican_coords)\n",
    "democrat_coords = np.array(democrat_coords)"
   ]
  },
  {
   "cell_type": "code",
   "execution_count": 48,
   "metadata": {},
   "outputs": [
    {
     "data": {
      "image/png": "[encoded data removed]",
      "text/plain": [
       "<Figure size 640x480 with 1 Axes>"
      ]
     },
     "metadata": {},
     "output_type": "display_data"
    }
   ],
   "source": [
    "# Desenez plot-ul pentru fiecare partid\n",
    "\n",
    "plt.scatter(republican_coords[:,0],republican_coords[:,1], color = \"r\", label = \"republican\")\n",
    "plt.scatter(democrat_coords[:,0],democrat_coords[:,1], color = \"b\", label = \"democrat\")\n",
    "plt.legend()\n",
    "plt.xlabel(\"Coordonata politica\")\n",
    "plt.ylabel(\"Coordonata bipartizana\")\n",
    "plt.show()"
   ]
  }
 ],
 "metadata": {
  "kernelspec": {
   "display_name": "base",
   "language": "python",
   "name": "python3"
  },
  "language_info": {
   "codemirror_mode": {
    "name": "ipython",
    "version": 3
   },
   "file_extension": ".py",
   "mimetype": "text/x-python",
   "name": "python",
   "nbconvert_exporter": "python",
   "pygments_lexer": "ipython3",
   "version": "3.9.13 (main, Aug 25 2022, 23:51:50) [MSC v.1916 64 bit (AMD64)]"
  },
  "orig_nbformat": 4,
  "vscode": {
   "interpreter": {
    "hash": "422e60d6d7d1972bfa0d67c28b42b654bf6666e97b12022110b6950b36fce586"
   }
  }
 },
 "nbformat": 4,
 "nbformat_minor": 2
}
